{
 "cells": [
  {
   "cell_type": "markdown",
   "id": "df27749f",
   "metadata": {},
   "source": [
    "## Task 2\n",
    "- - -\n",
    "Supongamos que es simple generar variables aleatorias con función de probabilidad acumulada $F_i(x)$ para $i$ de 1 a $n$. Tenemos la variable aleatoria $V$ con una función de probabilidad acumulada:\n",
    "\n",
    "$$F(x) = \\sum_{i=1}^{n} p_i \\cdot F_i(x)$$\n",
    "\n",
    "donde $p_i$ constituye una distribución probabilística.\n",
    "\n",
    "1. **Describa un algoritmo para generar $V$.**\n",
    "2. **Demuestre que el algoritmo genera adecuadamente $V$.**\n",
    "\n",
    "**Hint:** Probablemente le sea de utilidad el método de composición.\n",
    "- - -"
   ]
  },
  {
   "cell_type": "markdown",
   "id": "4ad370ef",
   "metadata": {},
   "source": [
    "\n",
    "### 1. Descripción del Algoritmo para Generar \\( V \\)\n",
    "\n",
    "El método de composición es una técnica común en simulación para generar una variable aleatoria $V$ cuya función de distribución acumulada $F(x)$ es una combinación de otras distribuciones acumuladas $F_i(x)$ ponderadas por probabilidades $p_i$.\n",
    "\n",
    "\n",
    "1. **Generación de una variable auxiliar $U$:**\n",
    "   - Genera una variable aleatoria uniforme $U$ en el intervalo $[0, 1]$.\n",
    "\n",
    "2. **Selección de la distribución:**\n",
    "   - Divide el intervalo $[0, 1]$ en $n$ subintervalos según las probabilidades $p_i$.\n",
    "   - Selecciona el subintervalo donde cae $U$. Si $U$ cae en el intervalo $[P_{i-1}, P_i)$, entonces selecciona la distribución acumulada $F_i(x)$. Aquí, $P_i$ es la suma acumulativa de $p_i$, es decir:\n",
    "\n",
    "$$P_i = \\sum_{j=1}^{i} p_j$$\n",
    "\n",
    "3. **Generación de la variable aleatoria:**\n",
    "   - Una vez seleccionada la distribución $F_i(x)$, genera una variable aleatoria $V$ según esta distribución.\n",
    "\n",
    "4. **Retornar el valor de $V$**.\n",
    "- - -"
   ]
  },
  {
   "cell_type": "markdown",
   "id": "5a74bb66",
   "metadata": {},
   "source": [
    "\n",
    "### 2. Demostración de que el Algoritmo Genera Adecuadamente \\( V \\)\n",
    "\n",
    "Para demostrar que el algoritmo genera adecuadamente $V$, mostramos que la distribución acumulada $F(x)$ generada por este método es la correcta.\n",
    "\n",
    "**Distribución acumulada $F(x)$:**\n",
    "\n",
    "- Para un valor de $x$, $F(x) = P(V \\leq x)$.\n",
    "- Esto se puede descomponer como la suma ponderada de las probabilidades de que $V \\leq x$ dado que la distribución seleccionada es $F_i(x)$.\n",
    "\n",
    "$$F(x) = \\sum_{i=1}^{n} p_i \\cdot P(V \\leq x \\mid F_i(x)) = \\sum_{i=1}^{n} p_i \\cdot F_i(x)$$\n",
    "\n",
    "Esto coincide con la función de distribución acumulada $F(x)$ definida en este task. Por lo tanto, el algoritmo genera adecuadamente la variable aleatoria $V$ con la distribución acumulada $F(x)$.\n"
   ]
  },
  {
   "cell_type": "code",
   "execution_count": null,
   "id": "e57aa74a-778a-4d51-aa1c-88b6aa64ee44",
   "metadata": {},
   "outputs": [],
   "source": []
  }
 ],
 "metadata": {
  "kernelspec": {
   "display_name": "Python 3 (ipykernel)",
   "language": "python",
   "name": "python3"
  },
  "language_info": {
   "codemirror_mode": {
    "name": "ipython",
    "version": 3
   },
   "file_extension": ".py",
   "mimetype": "text/x-python",
   "name": "python",
   "nbconvert_exporter": "python",
   "pygments_lexer": "ipython3",
   "version": "3.12.1"
  }
 },
 "nbformat": 4,
 "nbformat_minor": 5
}
